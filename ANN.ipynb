{
 "cells": [
  {
   "cell_type": "code",
   "execution_count": 1,
   "id": "2aac4ad0-1582-46f3-a5d5-7b2f9b996903",
   "metadata": {},
   "outputs": [],
   "source": [
    "# pip install keras\n",
    "import numpy as np\n",
    "from random import randint\n",
    "from sklearn.utils import shuffle\n",
    "from sklearn.preprocessing import MinMaxScaler"
   ]
  },
  {
   "cell_type": "code",
   "execution_count": 2,
   "id": "dcfe36cc-73ab-4813-9a0f-88ba7bb30d29",
   "metadata": {},
   "outputs": [],
   "source": [
    "train_labels=[]\n",
    "train_samples=[]"
   ]
  },
  {
   "cell_type": "markdown",
   "id": "e4dea28c-9fbf-41ce-86f2-f6a8dbd0aafa",
   "metadata": {},
   "source": [
    "### Dummy Dataset"
   ]
  },
  {
   "cell_type": "code",
   "execution_count": 3,
   "id": "f46ebda9-e965-47bb-9e6c-5af0b03f69b1",
   "metadata": {},
   "outputs": [],
   "source": [
    "for i in range(50):\n",
    "#       younger people who experienced side effects\n",
    "    random_younger=randint(13,64)\n",
    "    train_samples.append(random_younger)\n",
    "    train_labels.append(1) \n",
    "    \n",
    "#      older people who did not experienced side effects\n",
    "    random_older=randint(65,100)\n",
    "    train_samples.append(random_older)\n",
    "    train_labels.append(0)\n",
    "\n",
    "for i in range(1000):\n",
    "    #       younger people who did not experienced side effects\n",
    "    random_younger=randint(13,64)\n",
    "    train_samples.append(random_younger)\n",
    "    train_labels.append(0)\n",
    "    \n",
    "    \n",
    "    #      older people who did experienced side effects\n",
    "    random_older=randint(65,100)\n",
    "    train_samples.append(random_older)\n",
    "    train_labels.append(1)"
   ]
  },
  {
   "cell_type": "code",
   "execution_count": 4,
   "id": "d1c8e4d2-1d0e-4d75-814e-e346e97c16a3",
   "metadata": {},
   "outputs": [],
   "source": [
    "# convert this data into np arra to pass in fit function\n",
    "train_labels=np.array(train_labels)\n",
    "train_samples=np.array(train_samples)\n",
    "train_labels,train_samples=shuffle(train_labels,train_samples)"
   ]
  },
  {
   "cell_type": "code",
   "execution_count": 5,
   "id": "c44f2d3b-5b72-4c1f-8ff1-2aa25d8cf5a7",
   "metadata": {},
   "outputs": [],
   "source": [
    "# reshape data into 2D because fit function does not accept 1D\n",
    "scaler = MinMaxScaler(feature_range=(0,1))\n",
    "scaled_train_samples = scaler.fit_transform(train_samples.reshape(-1,1))\n"
   ]
  },
  {
   "cell_type": "code",
   "execution_count": 7,
   "id": "1e14155c",
   "metadata": {},
   "outputs": [],
   "source": [
    "import tensorflow\n",
    "from tensorflow import keras\n",
    "from tensorflow.keras.models import Sequential\n",
    "from tensorflow.keras.layers import Activation, Dense, BatchNormalization, Conv2D\n",
    "from tensorflow.keras.optimizers import Adam\n",
    "\n",
    "#for training\n",
    "from tensorflow.keras.metrics import categorical_crossentropy\n",
    "from tensorflow.keras.preprocessing.image import ImageDataGenerator"
   ]
  },
  {
   "cell_type": "markdown",
   "id": "0b47195f-964e-44d1-aa6d-b3361ff4ad40",
   "metadata": {},
   "source": [
    "### Building Sequential Model"
   ]
  },
  {
   "cell_type": "code",
   "execution_count": 8,
   "id": "c74ecf9f-f72e-496f-837d-211500453556",
   "metadata": {},
   "outputs": [],
   "source": [
    "model = Sequential([\n",
    "    Dense(units=16, input_shape=(1,), activation='relu'),\n",
    "    Dense(units=32, activation='relu'),\n",
    "    Dense(units=2, activation='softmax')\n",
    "])"
   ]
  },
  {
   "cell_type": "code",
   "execution_count": 9,
   "id": "e9266e31-e6c7-4599-b5f2-0ca3217110e5",
   "metadata": {},
   "outputs": [
    {
     "name": "stdout",
     "output_type": "stream",
     "text": [
      "Model: \"sequential\"\n",
      "_________________________________________________________________\n",
      " Layer (type)                Output Shape              Param #   \n",
      "=================================================================\n",
      " dense (Dense)               (None, 16)                32        \n",
      "                                                                 \n",
      " dense_1 (Dense)             (None, 32)                544       \n",
      "                                                                 \n",
      " dense_2 (Dense)             (None, 2)                 66        \n",
      "                                                                 \n",
      "=================================================================\n",
      "Total params: 642\n",
      "Trainable params: 642\n",
      "Non-trainable params: 0\n",
      "_________________________________________________________________\n"
     ]
    }
   ],
   "source": [
    "model.summary()"
   ]
  },
  {
   "cell_type": "markdown",
   "id": "e9192bc0-01c4-44a8-a87f-42282e77dfd4",
   "metadata": {},
   "source": [
    "### Compiling model"
   ]
  },
  {
   "cell_type": "code",
   "execution_count": 11,
   "id": "83d1ae96-25d1-4e0a-af46-b1c11c4f3d21",
   "metadata": {},
   "outputs": [],
   "source": [
    "model.compile(optimizer=Adam(learning_rate=0.0001), loss='sparse_categorical_crossentropy', metrics=['accuracy'])"
   ]
  },
  {
   "cell_type": "markdown",
   "id": "736de0c8-831e-4190-9bc3-9665892d2a33",
   "metadata": {},
   "source": [
    "### Training Model"
   ]
  },
  {
   "cell_type": "code",
   "execution_count": 12,
   "id": "a98457a5-a96b-4446-96e4-79a8c274799b",
   "metadata": {},
   "outputs": [
    {
     "name": "stdout",
     "output_type": "stream",
     "text": [
      "Epoch 1/30\n",
      "210/210 - 1s - loss: 0.6635 - accuracy: 0.5519 - 597ms/epoch - 3ms/step\n",
      "Epoch 2/30\n",
      "210/210 - 0s - loss: 0.6237 - accuracy: 0.6805 - 214ms/epoch - 1ms/step\n",
      "Epoch 3/30\n",
      "210/210 - 0s - loss: 0.5794 - accuracy: 0.7610 - 215ms/epoch - 1ms/step\n",
      "Epoch 4/30\n",
      "210/210 - 0s - loss: 0.5371 - accuracy: 0.8010 - 220ms/epoch - 1ms/step\n",
      "Epoch 5/30\n",
      "210/210 - 0s - loss: 0.4955 - accuracy: 0.8286 - 263ms/epoch - 1ms/step\n",
      "Epoch 6/30\n",
      "210/210 - 0s - loss: 0.4569 - accuracy: 0.8510 - 220ms/epoch - 1ms/step\n",
      "Epoch 7/30\n",
      "210/210 - 0s - loss: 0.4223 - accuracy: 0.8729 - 231ms/epoch - 1ms/step\n",
      "Epoch 8/30\n",
      "210/210 - 0s - loss: 0.3929 - accuracy: 0.8824 - 246ms/epoch - 1ms/step\n",
      "Epoch 9/30\n",
      "210/210 - 0s - loss: 0.3684 - accuracy: 0.8933 - 268ms/epoch - 1ms/step\n",
      "Epoch 10/30\n",
      "210/210 - 0s - loss: 0.3487 - accuracy: 0.9005 - 197ms/epoch - 936us/step\n",
      "Epoch 11/30\n",
      "210/210 - 0s - loss: 0.3328 - accuracy: 0.9052 - 195ms/epoch - 926us/step\n",
      "Epoch 12/30\n",
      "210/210 - 0s - loss: 0.3200 - accuracy: 0.9062 - 209ms/epoch - 993us/step\n",
      "Epoch 13/30\n",
      "210/210 - 0s - loss: 0.3100 - accuracy: 0.9129 - 234ms/epoch - 1ms/step\n",
      "Epoch 14/30\n",
      "210/210 - 0s - loss: 0.3019 - accuracy: 0.9133 - 223ms/epoch - 1ms/step\n",
      "Epoch 15/30\n",
      "210/210 - 0s - loss: 0.2952 - accuracy: 0.9286 - 230ms/epoch - 1ms/step\n",
      "Epoch 16/30\n",
      "210/210 - 0s - loss: 0.2900 - accuracy: 0.9195 - 192ms/epoch - 912us/step\n",
      "Epoch 17/30\n",
      "210/210 - 0s - loss: 0.2856 - accuracy: 0.9271 - 199ms/epoch - 945us/step\n",
      "Epoch 18/30\n",
      "210/210 - 0s - loss: 0.2819 - accuracy: 0.9305 - 204ms/epoch - 969us/step\n",
      "Epoch 19/30\n",
      "210/210 - 0s - loss: 0.2788 - accuracy: 0.9324 - 255ms/epoch - 1ms/step\n",
      "Epoch 20/30\n",
      "210/210 - 0s - loss: 0.2764 - accuracy: 0.9310 - 250ms/epoch - 1ms/step\n",
      "Epoch 21/30\n",
      "210/210 - 0s - loss: 0.2740 - accuracy: 0.9314 - 221ms/epoch - 1ms/step\n",
      "Epoch 22/30\n",
      "210/210 - 0s - loss: 0.2722 - accuracy: 0.9300 - 229ms/epoch - 1ms/step\n",
      "Epoch 23/30\n",
      "210/210 - 0s - loss: 0.2701 - accuracy: 0.9343 - 227ms/epoch - 1ms/step\n",
      "Epoch 24/30\n",
      "210/210 - 0s - loss: 0.2684 - accuracy: 0.9329 - 205ms/epoch - 974us/step\n",
      "Epoch 25/30\n",
      "210/210 - 0s - loss: 0.2671 - accuracy: 0.9357 - 210ms/epoch - 998us/step\n",
      "Epoch 26/30\n",
      "210/210 - 0s - loss: 0.2656 - accuracy: 0.9367 - 207ms/epoch - 984us/step\n",
      "Epoch 27/30\n",
      "210/210 - 0s - loss: 0.2642 - accuracy: 0.9381 - 209ms/epoch - 993us/step\n",
      "Epoch 28/30\n",
      "210/210 - 0s - loss: 0.2632 - accuracy: 0.9381 - 208ms/epoch - 988us/step\n",
      "Epoch 29/30\n",
      "210/210 - 0s - loss: 0.2623 - accuracy: 0.9400 - 260ms/epoch - 1ms/step\n",
      "Epoch 30/30\n",
      "210/210 - 0s - loss: 0.2612 - accuracy: 0.9386 - 243ms/epoch - 1ms/step\n"
     ]
    },
    {
     "data": {
      "text/plain": [
       "<keras.callbacks.History at 0x140b76d850>"
      ]
     },
     "execution_count": 12,
     "metadata": {},
     "output_type": "execute_result"
    }
   ],
   "source": [
    "model.fit(x=scaled_train_samples, y=train_labels, batch_size=10, epochs=30, verbose=2)"
   ]
  },
  {
   "cell_type": "markdown",
   "id": "d3e4efb0-0c41-486c-afa9-c5b8a452a106",
   "metadata": {},
   "source": [
    "### Creating a Validation Set using Keras"
   ]
  },
  {
   "cell_type": "code",
   "execution_count": 13,
   "id": "95e05fbc-b68e-42d6-ac13-597e513109d9",
   "metadata": {},
   "outputs": [
    {
     "name": "stdout",
     "output_type": "stream",
     "text": [
      "Epoch 1/30\n",
      "189/189 - 0s - loss: 0.2512 - accuracy: 0.9429 - val_loss: 0.3436 - val_accuracy: 0.9000 - 387ms/epoch - 2ms/step\n",
      "Epoch 2/30\n",
      "189/189 - 0s - loss: 0.2502 - accuracy: 0.9413 - val_loss: 0.3430 - val_accuracy: 0.9190 - 268ms/epoch - 1ms/step\n",
      "Epoch 3/30\n",
      "189/189 - 0s - loss: 0.2495 - accuracy: 0.9429 - val_loss: 0.3434 - val_accuracy: 0.9000 - 220ms/epoch - 1ms/step\n",
      "Epoch 4/30\n",
      "189/189 - 0s - loss: 0.2488 - accuracy: 0.9418 - val_loss: 0.3427 - val_accuracy: 0.9190 - 271ms/epoch - 1ms/step\n",
      "Epoch 5/30\n",
      "189/189 - 0s - loss: 0.2479 - accuracy: 0.9466 - val_loss: 0.3429 - val_accuracy: 0.9190 - 280ms/epoch - 1ms/step\n",
      "Epoch 6/30\n",
      "189/189 - 0s - loss: 0.2474 - accuracy: 0.9439 - val_loss: 0.3425 - val_accuracy: 0.9190 - 225ms/epoch - 1ms/step\n",
      "Epoch 7/30\n",
      "189/189 - 0s - loss: 0.2468 - accuracy: 0.9460 - val_loss: 0.3428 - val_accuracy: 0.9000 - 238ms/epoch - 1ms/step\n",
      "Epoch 8/30\n",
      "189/189 - 0s - loss: 0.2463 - accuracy: 0.9439 - val_loss: 0.3418 - val_accuracy: 0.9190 - 231ms/epoch - 1ms/step\n",
      "Epoch 9/30\n",
      "189/189 - 0s - loss: 0.2457 - accuracy: 0.9460 - val_loss: 0.3420 - val_accuracy: 0.9000 - 267ms/epoch - 1ms/step\n",
      "Epoch 10/30\n",
      "189/189 - 0s - loss: 0.2449 - accuracy: 0.9423 - val_loss: 0.3409 - val_accuracy: 0.9190 - 267ms/epoch - 1ms/step\n",
      "Epoch 11/30\n",
      "189/189 - 0s - loss: 0.2444 - accuracy: 0.9471 - val_loss: 0.3405 - val_accuracy: 0.9190 - 219ms/epoch - 1ms/step\n",
      "Epoch 12/30\n",
      "189/189 - 0s - loss: 0.2438 - accuracy: 0.9450 - val_loss: 0.3400 - val_accuracy: 0.9190 - 263ms/epoch - 1ms/step\n",
      "Epoch 13/30\n",
      "189/189 - 0s - loss: 0.2432 - accuracy: 0.9481 - val_loss: 0.3398 - val_accuracy: 0.9190 - 235ms/epoch - 1ms/step\n",
      "Epoch 14/30\n",
      "189/189 - 0s - loss: 0.2428 - accuracy: 0.9439 - val_loss: 0.3389 - val_accuracy: 0.9190 - 233ms/epoch - 1ms/step\n",
      "Epoch 15/30\n",
      "189/189 - 0s - loss: 0.2422 - accuracy: 0.9481 - val_loss: 0.3389 - val_accuracy: 0.9190 - 243ms/epoch - 1ms/step\n",
      "Epoch 16/30\n",
      "189/189 - 0s - loss: 0.2417 - accuracy: 0.9481 - val_loss: 0.3385 - val_accuracy: 0.9190 - 258ms/epoch - 1ms/step\n",
      "Epoch 17/30\n",
      "189/189 - 0s - loss: 0.2412 - accuracy: 0.9439 - val_loss: 0.3377 - val_accuracy: 0.9190 - 230ms/epoch - 1ms/step\n",
      "Epoch 18/30\n",
      "189/189 - 0s - loss: 0.2410 - accuracy: 0.9466 - val_loss: 0.3370 - val_accuracy: 0.9190 - 232ms/epoch - 1ms/step\n",
      "Epoch 19/30\n",
      "189/189 - 0s - loss: 0.2404 - accuracy: 0.9481 - val_loss: 0.3367 - val_accuracy: 0.9190 - 231ms/epoch - 1ms/step\n",
      "Epoch 20/30\n",
      "189/189 - 0s - loss: 0.2403 - accuracy: 0.9481 - val_loss: 0.3360 - val_accuracy: 0.9190 - 224ms/epoch - 1ms/step\n",
      "Epoch 21/30\n",
      "189/189 - 0s - loss: 0.2397 - accuracy: 0.9481 - val_loss: 0.3353 - val_accuracy: 0.9190 - 217ms/epoch - 1ms/step\n",
      "Epoch 22/30\n",
      "189/189 - 0s - loss: 0.2392 - accuracy: 0.9481 - val_loss: 0.3351 - val_accuracy: 0.9190 - 233ms/epoch - 1ms/step\n",
      "Epoch 23/30\n",
      "189/189 - 0s - loss: 0.2388 - accuracy: 0.9481 - val_loss: 0.3350 - val_accuracy: 0.9190 - 277ms/epoch - 1ms/step\n",
      "Epoch 24/30\n",
      "189/189 - 0s - loss: 0.2384 - accuracy: 0.9481 - val_loss: 0.3351 - val_accuracy: 0.9190 - 228ms/epoch - 1ms/step\n",
      "Epoch 25/30\n",
      "189/189 - 0s - loss: 0.2381 - accuracy: 0.9481 - val_loss: 0.3348 - val_accuracy: 0.9190 - 242ms/epoch - 1ms/step\n",
      "Epoch 26/30\n",
      "189/189 - 0s - loss: 0.2378 - accuracy: 0.9481 - val_loss: 0.3339 - val_accuracy: 0.9190 - 249ms/epoch - 1ms/step\n",
      "Epoch 27/30\n",
      "189/189 - 0s - loss: 0.2374 - accuracy: 0.9481 - val_loss: 0.3336 - val_accuracy: 0.9190 - 249ms/epoch - 1ms/step\n",
      "Epoch 28/30\n",
      "189/189 - 0s - loss: 0.2375 - accuracy: 0.9476 - val_loss: 0.3333 - val_accuracy: 0.9190 - 232ms/epoch - 1ms/step\n",
      "Epoch 29/30\n",
      "189/189 - 0s - loss: 0.2370 - accuracy: 0.9497 - val_loss: 0.3329 - val_accuracy: 0.9190 - 232ms/epoch - 1ms/step\n",
      "Epoch 30/30\n",
      "189/189 - 0s - loss: 0.2366 - accuracy: 0.9487 - val_loss: 0.3324 - val_accuracy: 0.9190 - 244ms/epoch - 1ms/step\n"
     ]
    },
    {
     "data": {
      "text/plain": [
       "<keras.callbacks.History at 0x140c132550>"
      ]
     },
     "execution_count": 13,
     "metadata": {},
     "output_type": "execute_result"
    }
   ],
   "source": [
    "model.fit(\n",
    "      x=scaled_train_samples\n",
    "    , y=train_labels\n",
    "    , validation_split=0.1\n",
    "    , batch_size=10\n",
    "    , epochs=30\n",
    "    , verbose=2\n",
    ")"
   ]
  },
  {
   "cell_type": "markdown",
   "id": "d5e0ef0f-8547-41f7-8746-601f58d3ac5c",
   "metadata": {},
   "source": [
    "### Test Set"
   ]
  },
  {
   "cell_type": "code",
   "execution_count": 14,
   "id": "acbea82c-af3b-4ab2-97f7-1ad7afc3b96f",
   "metadata": {},
   "outputs": [],
   "source": [
    "test_lables=[]\n",
    "test_samples=[]"
   ]
  },
  {
   "cell_type": "code",
   "execution_count": 15,
   "id": "f79e337a-bd30-421c-bc97-bdb4218d8f81",
   "metadata": {},
   "outputs": [],
   "source": [
    "for i in range(10):\n",
    "    #     younger individuals who did experience side effects\n",
    "    random_younger=randint(13,64)\n",
    "    test_samples.append(random_younger)\n",
    "    test_lables.append(1)\n",
    "    \n",
    "      #     older individuals who did not experience side effects\n",
    "    random_older=randint(65,100)\n",
    "    test_samples.append(random_older)\n",
    "    test_lables.append(0)\n",
    "    \n",
    "for i in range(200):\n",
    "    #     younger individuals who did not experience side effects\n",
    "    random_younger=randint(13,64)\n",
    "    test_samples.append(random_younger)\n",
    "    test_lables.append(0)\n",
    "    \n",
    "      #     older individuals who did experience side effects\n",
    "    random_older=randint(65,100)\n",
    "    test_samples.append(random_older)\n",
    "    test_lables.append(1)"
   ]
  },
  {
   "cell_type": "code",
   "execution_count": 16,
   "id": "5b4fa70d-2e35-4a63-be8c-d43f360bc6bd",
   "metadata": {},
   "outputs": [],
   "source": [
    "### Convert the data in np_arra formate\n",
    "test_lables=np.array(test_lables)\n",
    "test_samples=np.array(test_samples)\n",
    "\n",
    "# Shuffle \n",
    "test_lables, test_samples = shuffle(test_lables, test_samples)\n",
    "\n",
    "# tranform to 2D \n",
    "scaled_test_samples = scaler.fit_transform(test_samples.reshape(-1,1))\n"
   ]
  },
  {
   "cell_type": "code",
   "execution_count": 17,
   "id": "bd58c327-bc98-4fb6-99bf-98324e39d6c8",
   "metadata": {},
   "outputs": [],
   "source": [
    "predictions = model.predict(\n",
    "      x=scaled_test_samples\n",
    "    , batch_size=10\n",
    "    , verbose=0\n",
    ")  "
   ]
  },
  {
   "cell_type": "code",
   "execution_count": 18,
   "id": "cc9d061b-4c46-4346-9694-1745e658edc3",
   "metadata": {},
   "outputs": [],
   "source": [
    "rounded_predictions=np.argmax(predictions, axis=-1)"
   ]
  },
  {
   "cell_type": "code",
   "execution_count": 19,
   "id": "ca2e879d-bcb0-483f-83bc-6eb6bafee9fe",
   "metadata": {},
   "outputs": [],
   "source": [
    "%matplotlib inline\n",
    "from sklearn.metrics import confusion_matrix\n",
    "import itertools\n",
    "import matplotlib.pyplot as plt"
   ]
  },
  {
   "cell_type": "code",
   "execution_count": 20,
   "id": "b386df3b-5184-4941-9efc-989846cd1c16",
   "metadata": {},
   "outputs": [],
   "source": [
    "cm = confusion_matrix(y_true=test_lables, y_pred=rounded_predictions)"
   ]
  },
  {
   "cell_type": "code",
   "execution_count": 21,
   "id": "bc1b4a47-e776-4442-b765-5af4c0bd8a11",
   "metadata": {},
   "outputs": [],
   "source": [
    "def plot_confusion_matrix(cm, classes,\n",
    "                        normalize=False,\n",
    "                        title='Confusion matrix',\n",
    "                        cmap=plt.cm.Blues):\n",
    "    \"\"\"\n",
    "    This function prints and plots the confusion matrix.\n",
    "    Normalization can be applied by setting `normalize=True`.\n",
    "    \"\"\"\n",
    "    plt.imshow(cm, interpolation='nearest', cmap=cmap)\n",
    "    plt.title(title)\n",
    "    plt.colorbar()\n",
    "    tick_marks = np.arange(len(classes))\n",
    "    plt.xticks(tick_marks, classes, rotation=45)\n",
    "    plt.yticks(tick_marks, classes)\n",
    "\n",
    "    if normalize:\n",
    "        cm = cm.astype('float') / cm.sum(axis=1)[:, np.newaxis]\n",
    "        print(\"Normalized confusion matrix\")\n",
    "    else:\n",
    "        print('Confusion matrix, without normalization')\n",
    "\n",
    "    print(cm)\n",
    "\n",
    "    thresh = cm.max() / 2.\n",
    "    for i, j in itertools.product(range(cm.shape[0]), range(cm.shape[1])):\n",
    "        plt.text(j, i, cm[i, j],\n",
    "            horizontalalignment=\"center\",\n",
    "            color=\"white\" if cm[i, j] > thresh else \"black\")\n",
    "\n",
    "    plt.tight_layout()\n",
    "    plt.ylabel('True label')\n",
    "    plt.xlabel('Predicted label')"
   ]
  },
  {
   "cell_type": "code",
   "execution_count": 22,
   "id": "898e8a5e-a300-44ab-8cbb-7ad3354ea426",
   "metadata": {},
   "outputs": [],
   "source": [
    "# providing labels to confusion matrix\n",
    "cm_plot_labels = ['no_side_effects','had_side_effects']"
   ]
  },
  {
   "cell_type": "code",
   "execution_count": 23,
   "id": "72d067a6-9c43-4d0f-b28e-7109aefdf943",
   "metadata": {},
   "outputs": [
    {
     "name": "stdout",
     "output_type": "stream",
     "text": [
      "Confusion matrix, without normalization\n",
      "[[198  12]\n",
      " [ 10 200]]\n"
     ]
    },
    {
     "data": {
      "image/png": "[encoded data removed]",
      "text/plain": [
       "<Figure size 432x288 with 2 Axes>"
      ]
     },
     "metadata": {
      "needs_background": "light"
     },
     "output_type": "display_data"
    }
   ],
   "source": [
    "plot_confusion_matrix(cm=cm, classes=cm_plot_labels, title='Confusion Matrix')"
   ]
  },
  {
   "cell_type": "markdown",
   "id": "fcf72054-bc2f-4802-83c8-d4b1b55b7453",
   "metadata": {},
   "source": [
    "### Saving Model"
   ]
  },
  {
   "cell_type": "code",
   "execution_count": 25,
   "id": "26ae4bd2-9e33-480c-b5e7-6041caf9530c",
   "metadata": {
    "scrolled": true
   },
   "outputs": [
    {
     "data": {
      "text/plain": [
       "'{\"class_name\": \"Sequential\", \"config\": {\"name\": \"sequential\", \"layers\": [{\"class_name\": \"InputLayer\", \"config\": {\"batch_input_shape\": [null, 1], \"dtype\": \"float32\", \"sparse\": false, \"ragged\": false, \"name\": \"dense_input\"}}, {\"class_name\": \"Dense\", \"config\": {\"name\": \"dense\", \"trainable\": true, \"batch_input_shape\": [null, 1], \"dtype\": \"float32\", \"units\": 16, \"activation\": \"relu\", \"use_bias\": true, \"kernel_initializer\": {\"class_name\": \"GlorotUniform\", \"config\": {\"seed\": null}}, \"bias_initializer\": {\"class_name\": \"Zeros\", \"config\": {}}, \"kernel_regularizer\": null, \"bias_regularizer\": null, \"activity_regularizer\": null, \"kernel_constraint\": null, \"bias_constraint\": null}}, {\"class_name\": \"Dense\", \"config\": {\"name\": \"dense_1\", \"trainable\": true, \"dtype\": \"float32\", \"units\": 32, \"activation\": \"relu\", \"use_bias\": true, \"kernel_initializer\": {\"class_name\": \"GlorotUniform\", \"config\": {\"seed\": null}}, \"bias_initializer\": {\"class_name\": \"Zeros\", \"config\": {}}, \"kernel_regularizer\": null, \"bias_regularizer\": null, \"activity_regularizer\": null, \"kernel_constraint\": null, \"bias_constraint\": null}}, {\"class_name\": \"Dense\", \"config\": {\"name\": \"dense_2\", \"trainable\": true, \"dtype\": \"float32\", \"units\": 2, \"activation\": \"softmax\", \"use_bias\": true, \"kernel_initializer\": {\"class_name\": \"GlorotUniform\", \"config\": {\"seed\": null}}, \"bias_initializer\": {\"class_name\": \"Zeros\", \"config\": {}}, \"kernel_regularizer\": null, \"bias_regularizer\": null, \"activity_regularizer\": null, \"kernel_constraint\": null, \"bias_constraint\": null}}]}, \"keras_version\": \"2.7.0\", \"backend\": \"tensorflow\"}'"
      ]
     },
     "execution_count": 25,
     "metadata": {},
     "output_type": "execute_result"
    }
   ],
   "source": [
    "# save model- was also an option to save the entire model\n",
    "# but\n",
    "# to save only archi use to_json() no weights or other configs\n",
    "# we can use to_yaml() or to\n",
    "json_string = model.to_json()\n",
    "json_string"
   ]
  },
  {
   "cell_type": "code",
   "execution_count": 26,
   "id": "aa5ce9e6-d8bc-491e-8291-064f960bbd61",
   "metadata": {},
   "outputs": [],
   "source": [
    "from tensorflow.keras.models import model_from_json\n",
    "model_architecture=model_from_json(json_string)"
   ]
  },
  {
   "cell_type": "code",
   "execution_count": 27,
   "id": "9b9df78c",
   "metadata": {},
   "outputs": [
    {
     "name": "stdout",
     "output_type": "stream",
     "text": [
      "Model: \"sequential\"\n",
      "_________________________________________________________________\n",
      " Layer (type)                Output Shape              Param #   \n",
      "=================================================================\n",
      " dense (Dense)               (None, 16)                32        \n",
      "                                                                 \n",
      " dense_1 (Dense)             (None, 32)                544       \n",
      "                                                                 \n",
      " dense_2 (Dense)             (None, 2)                 66        \n",
      "                                                                 \n",
      "=================================================================\n",
      "Total params: 642\n",
      "Trainable params: 642\n",
      "Non-trainable params: 0\n",
      "_________________________________________________________________\n"
     ]
    }
   ],
   "source": [
    "model_architecture.summary()"
   ]
  }
 ],
 "metadata": {
  "kernelspec": {
   "display_name": "Python 3",
   "language": "python",
   "name": "python3"
  },
  "language_info": {
   "codemirror_mode": {
    "name": "ipython",
    "version": 3
   },
   "file_extension": ".py",
   "mimetype": "text/x-python",
   "name": "python",
   "nbconvert_exporter": "python",
   "pygments_lexer": "ipython3",
   "version": "3.8.8"
  }
 },
 "nbformat": 4,
 "nbformat_minor": 5
}
